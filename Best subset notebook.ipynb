{
 "cells": [
  {
   "cell_type": "markdown",
   "metadata": {},
   "source": [
    "This notebook contains an algorithm for best subset selection for linear regression using several selction criteria."
   ]
  },
  {
   "cell_type": "code",
   "execution_count": null,
   "metadata": {},
   "outputs": [],
   "source": [
    "import numpy as np\n",
    "from sklearn.linear_model import LinearRegression\n",
    "from itertools import combinations"
   ]
  },
  {
   "cell_type": "markdown",
   "metadata": {},
   "source": [
    "Here are the formulas for various selection criteria for the best subset in a linear regression model."
   ]
  },
  {
   "cell_type": "markdown",
   "metadata": {},
   "source": [
    "Total sum of squares, `SSTO`:\n",
    "$$\n",
    "SSTO = \\sum (Y_i - \\bar{Y})^2\n",
    "$$"
   ]
  },
  {
   "cell_type": "markdown",
   "metadata": {},
   "source": [
    "Error sum of squares, `SSE`:\n",
    "$$\n",
    "SSE = \\sum (Y_i - \\hat{Y_i})^2\n",
    "$$"
   ]
  },
  {
   "cell_type": "markdown",
   "metadata": {},
   "source": [
    "Regression sum of squares, `SSR` (not used in calculations, but included for reference):  \n",
    "$$\n",
    "SSR = \\sum (\\hat{Y_i} - \\bar{Y})^2\n",
    "$$"
   ]
  },
  {
   "cell_type": "markdown",
   "metadata": {},
   "source": [
    "Relationship between `SSTO`, `SSE`, and `SSR`:\n",
    "$$\n",
    "SSTO = SSE + SSR\n",
    "$$"
   ]
  },
  {
   "cell_type": "markdown",
   "metadata": {},
   "source": [
    "Mean squared error, `MSE`:\n",
    "$$\n",
    "MSE = \\frac{SSE}{n-2}\n",
    "$$"
   ]
  },
  {
   "cell_type": "markdown",
   "metadata": {},
   "source": [
    "-----"
   ]
  },
  {
   "cell_type": "markdown",
   "metadata": {},
   "source": [
    "-----"
   ]
  },
  {
   "cell_type": "markdown",
   "metadata": {},
   "source": [
    "The `p` in the following formulas referes to the subset of `p` variables from the original set of independent variables. For example, if the original `X` has variables `x1`, `x2`, and `x3`, for `p=2`, `Xp` would be `{x1, x2}`, `{x1, x3}`, and `{x2, x3}`, and the criterions would be based on those subsets."
   ]
  },
  {
   "cell_type": "markdown",
   "metadata": {},
   "source": [
    "Coefficient of multiple determination, `R2`:\n",
    "$$\n",
    "R^{2}_p = 1 - \\frac{SSE_p}{SSTO}\n",
    "$$"
   ]
  },
  {
   "cell_type": "markdown",
   "metadata": {},
   "source": [
    "Adjusted coefficient of multiple determination, `adj_R2`:  \n",
    "\n",
    "$$\n",
    "R^2_{a,p} = 1 - \\left(\\frac{n-1}{n-p}\\right)\\frac{SSE_p}{SSTO} = 1 - \\frac{MSE_p}{\\frac{SSTO}{n-1}}\n",
    "$$"
   ]
  },
  {
   "cell_type": "markdown",
   "metadata": {},
   "source": [
    "Mallows's `Cp`:\n",
    "$$\n",
    "C_p = \\frac{SSE_p}{MSE(X_{1},...,X_{p-1})} - (n-2p)\n",
    "$$"
   ]
  },
  {
   "cell_type": "markdown",
   "metadata": {},
   "source": [
    "The following functions will calculate different statistical values."
   ]
  },
  {
   "cell_type": "code",
   "execution_count": null,
   "metadata": {},
   "outputs": [],
   "source": [
    "def SSTO(y):\n",
    "    \n",
    "    '''Calculates sum of squares from the mean.'''\n",
    "    \n",
    "    y_mean = np.mean(y)\n",
    "    squared_errors = (y - y_mean)**2\n",
    "    \n",
    "    return np.sum(squared_errors)"
   ]
  },
  {
   "cell_type": "code",
   "execution_count": null,
   "metadata": {},
   "outputs": [],
   "source": [
    "def SSE(y, predictions):\n",
    "    \n",
    "    '''Calculates sum of squared errors between predictions and actual values.'''\n",
    "    \n",
    "    squared_erros = (y - predictions)**2\n",
    "    \n",
    "    return np.sum(squared_errors)"
   ]
  },
  {
   "cell_type": "code",
   "execution_count": null,
   "metadata": {},
   "outputs": [],
   "source": [
    "def adj_R2(_sse, _ssto, n, p):\n",
    "    \n",
    "    '''Calculates the adjusted R^2.'''\n",
    "    \n",
    "    return 1 - (n-1)/(n-p) * _sse/_ssto"
   ]
  },
  {
   "cell_type": "code",
   "execution_count": null,
   "metadata": {},
   "outputs": [],
   "source": [
    "def Cp(sse_p, sse_P, n, p, P):\n",
    "    \n",
    "    '''Calculates Mallows's Cp value. Needs sse_p and sse_P to be pre-calculated.'''\n",
    "    \n",
    "    return sse_p / (sse_P/(n-P)) - (n - 2*p)"
   ]
  },
  {
   "cell_type": "code",
   "execution_count": null,
   "metadata": {},
   "outputs": [],
   "source": [
    "def AIC(_sse, n, p):\n",
    "    \n",
    "    '''Calculates the Akaike information criterion'''\n",
    "    \n",
    "    return n * np.log(_sse) - n * np.log(n) + 2*p"
   ]
  },
  {
   "cell_type": "code",
   "execution_count": null,
   "metadata": {},
   "outputs": [],
   "source": [
    "def SBC(_sse, n, p):\n",
    "    \n",
    "    '''Calculates Schwarz Bayesian criterion'''\n",
    "    \n",
    "    return n * np.log(_sse) - n * np.log(n) + np.log(n) * p"
   ]
  },
  {
   "cell_type": "code",
   "execution_count": null,
   "metadata": {},
   "outputs": [],
   "source": [
    "def PRESS(X, y):\n",
    "    \n",
    "    '''Calculates PRESS criterion.'''\n",
    "    \n",
    "    lr = LinearRegression()\n",
    "    pred = np.zeros(y.shape)\n",
    "    \n",
    "    for i in range(X.shape[0]):\n",
    "        y_mod = np.delete(y, i, 0)\n",
    "        X_mod = np.delete(X, i, 0)\n",
    "        lr.fit(X_mod, y_mod)\n",
    "        pred[i] = lr.predict(X[i].reshape(1, -1))\n",
    "        \n",
    "    return SSE(y, pred)"
   ]
  },
  {
   "cell_type": "markdown",
   "metadata": {},
   "source": [
    "Define some objects that will be needed in the main function."
   ]
  },
  {
   "cell_type": "code",
   "execution_count": null,
   "metadata": {},
   "outputs": [],
   "source": [
    "# Scikit-learn linear regression used in calculations\n",
    "lin_reg = LinearRegression()"
   ]
  },
  {
   "cell_type": "code",
   "execution_count": null,
   "metadata": {},
   "outputs": [],
   "source": [
    "# DataFrames that will store the best subset related information\n",
    "best_values_df = pd.DataFrame(columns = ['p', 'SSEp', 'R^2_p', 'Adj. R^2_p',\n",
    "                                         'Cp', 'AICp', 'SBCp', 'PRESSp'])\n",
    "best_subsets_df = pd.DataFrame(columns = ['p', 'SSEp', 'R^2_p', 'Adj. R^2_p',\n",
    "                                         'Cp', 'AICp', 'SBCp', 'PRESSp'])"
   ]
  },
  {
   "cell_type": "code",
   "execution_count": null,
   "metadata": {},
   "outputs": [],
   "source": [
    "# the main function that will use the criterion calculations\n",
    "# to determine the best subsets for regression\n",
    "def get_subsets(X, y, P):\n",
    "    # make sure that both X and y are numpy arrays\n",
    "    if (type(X) != np.ndarray) or (type(y) != np.ndarray):\n",
    "        raise TypeError('X and y must be numpy arrays')\n",
    "    \n",
    "    # check to makes sure we have the same number of rows in X and y\n",
    "    if X.shape[0] != y.shape[0]:\n",
    "        raise ValueError('X and y must have the same number of rows')\n",
    "        \n",
    "    # set n as the number of observations\n",
    "    n = X.shape[0]\n",
    "    \n",
    "    # create a range of values 1 through P for the numbers of variables in the subsets\n",
    "    P_range = range(1, P+1)\n",
    "    \n",
    "    # for both dataframes best_values_df and best_subsets_df,\n",
    "    # set values in the 'p' column to P_range values, and set that column as the index\n",
    "    best_values_df['p'] = P_range\n",
    "    best_values_df.set_index('p', inplace = True)\n",
    "    best_subsets_df['p'] = P_range\n",
    "    best_subsets_df.set_index('p', inplace = True)\n",
    "    \n",
    "    # create subsets of X consisting of 1 through P variables\n",
    "    # first, create an empty list to hold the tuples of subsets\n",
    "    X_subsets = []\n",
    "    \n",
    "    # create combinations of subsets using the 'combinations' function\n",
    "    # and iterating over values in range equal to the number of X variables\n",
    "    for i in range(1, P):\n",
    "        combs = combinations(range(X.shape[1]), i)\n",
    "        for item in combs:\n",
    "            X_subsets.append(item)\n",
    "            \n",
    "    # create intermediate dataframes to hold criterion values\n",
    "    SSE_df = pd.DataFrame(columns=['X_var', 'p', 'SSEp'])\n",
    "    SSE_df.set_index('X_var')\n",
    "    R2_df = pd.DataFrame(columns=['X_var', 'p', 'R2p'])\n",
    "    adj_R2_df = pd.DataFrame(columns=['X_var', 'p', 'adj_R2p'])\n",
    "    C_df = pd.DataFrame(columns=['X_var', 'p', 'Cp', 'Abs_Cp'])\n",
    "    AIC_df = pd.DataFrame(columns=['X_var', 'p', 'AICp'])\n",
    "    SBC_df = pd.DataFrame(columns=['X_var', 'p', 'SBCp'])\n",
    "    PRESS_df = pd.DataFrame(columns=['X_var', 'p', 'PRESSp'])\n",
    "    \n",
    "    # calculate SSTO for y\n",
    "    # SSTO will be the same for any subset of X (look at the formula above for details)\n",
    "    _ssto = SSTO(y)\n",
    "    \n",
    "    # populate SSE, R2, adj_R2, AIC, and SBC values in the respective dataframes\n",
    "    for i in P_range:\n",
    "        # p = 1 means using just the constant with no subset of X.\n",
    "        # Hence, all entries for X_var are 'None'.\n",
    "        if i == 1:\n",
    "            _sse = _ssto\n",
    "            SSE_df.loc['None'] = ['None', i, _sse]\n",
    "            R2_df.loc['None'] = ['None', i, 0]\n",
    "            adj_R2_df.loc['None'] = ['None', i, 0]\n",
    "            AIC_df.loc['None'] = ['None', i, AIC(_sse, n, i)]\n",
    "            SBC_df.loc['None'] = ['None', i, SBC(_sse, n, i)]\n",
    "        else:\n",
    "            # get only subsets that consist only of i-1 variables\n",
    "            current_subset = [item for item in X_subsets if len(item) == i-1]\n",
    "            # calculate criterions for the current_subset\n",
    "            for item in current_subset:\n",
    "                # fit linear regression to the current subset\n",
    "                # and use it for predict values when needed\n",
    "                lin_reg.fit(X[:, item], y)\n",
    "                y_hat = lin_reg.predict(X[:, item])\n",
    "                # create var numbers (X1, X2, etc) for dataframe display\n",
    "                var_numbers = [f'X{num + 1}' for num in item]\n",
    "                # populate SSE_df\n",
    "                _sse = SSE(y, y_hat)\n",
    "                # convert the list of var_numbers into a single string to use for indexing\n",
    "                # e.g. a list of ['X1', 'X2'] turns into a string \"['X1', 'X2']\"\n",
    "                # which can be used a single label\n",
    "                SSE_df.loc[str(var_numbers)] = [var_numbers, i, _sse]\n",
    "                # populate R2_df using scikit-learn's 'score' method\n",
    "                R2_df.loc[str(var_numbers)] = [var_numbers, i, lin_reg.score(X[:, item], y)]\n",
    "                # populate the adj_R2, AIC, and SBC dataframes\n",
    "                adj_R2_df[str(var_numbers)] = [var_numbers, i, adj_R2(_sse, _ssto, n, i)]\n",
    "                AIC_df[str(var_numbers)] = [var_numbers, i, AIC(_sse, n, i)]\n",
    "                SBC_df[str(var_numbers)] = [var_numbers, i, SBC(_sse, n, i)]\n",
    "                \n",
    "        # Calculate Cp values and populate C_df\n",
    "        for i in P_range:\n",
    "            if i == 1:\n",
    "                # get SSEp value for the the whole set of variables\n",
    "                # which can be extracted from SSE_df using the last var_numbers values\n",
    "                sse_P = SSE_df.loc[str(var_numbers)].SSEp\n",
    "                \n",
    "                # calculate Cp values using sse_P and _ssto\n",
    "                # (_ssto is used in place of sse_p since \n",
    "                # we're not using a subset of X for this specific calculation)\n",
    "                Cp_val = Cp(_ssto, sse_P, n, i, P)\n",
    "                \n",
    "                # enter the value into C_df\n",
    "                #TODO: why is it 'abs(Cp_val - i)'?\n",
    "                C_df.loc['None'] = ['None', i, Cp_val, abs(Cp_val - i)]\n",
    "            else:\n",
    "                current_subset = [item for item in X_subsets if len(item) == i - 1]\n",
    "                for x in current_subset:\n",
    "                    # create variable names such as 'X1', 'X2', etc\n",
    "                    c_var_numbers = [f'X{num+1}' for num in x]\n",
    "                    \n",
    "                    # get the _sse value for the current var number\n",
    "                    _sse = SSE_df.loc[str(c_var_numbers)].SSEp\n",
    "                    \n",
    "                    # calculate Cp value\n",
    "                    Cp_val = Cp(_sse, sse_P, n, i, P)\n",
    "                    \n",
    "                    # populate C_df; #TODO: why 'abs(Cp_val - i)'?\n",
    "                    C_df.loc[str(c_var_numbers)] = [c_var_numbers, i, Cp_val, abs(Cp_val - i)]\n",
    "                    \n",
    "        # calculate PRESSp and populate PRESS_df\n",
    "        PRESS_predictions = np.zeros(y.shape)\n",
    "        for i in P_range:\n",
    "            if i == 1:\n",
    "                for j in range(X.shape[0]):\n",
    "                    # delete a set of y values to be replaced by predictions\n",
    "                    y_mod = np.delete(y, j, 0)\n",
    "                    # in case of no X variables (P=1), use the mean as the prediction\n",
    "                    PRESS_predictions[j] = np.mean(y_mod)\n",
    "                PRESS_df.loc['None'] = ['None', i, SSE(y, PRESS_predictions)]\n",
    "            else:\n",
    "                current_subset = [item for item in X_subsets if len(item) == i-1]\n",
    "                for x in current_subset:\n",
    "                    PRESS_var_numbers = [f'X{num+1}' for num in x]\n",
    "                    PRESS_df.loc[str(PRESS_var_numbers)] = [PRESS_var_numbers, i,\n",
    "                                                            PRESS(y, X[:,x])]\n",
    "                    \n",
    "        for i in P_range:\n",
    "            best_values.loc[i, 'SSEp'] = SSE_df[SSE_df.p == i].min().SSEp\n",
    "            best_subsets.loc[i, 'SSEp'] = SSE_df[SSE_df.p == i].SSEp.idxmin()\n",
    "            best_values.loc[i, 'R^2_p'] = R2_df[R2_df.p == i].max().R2p\n",
    "            best_subsets.loc[i, 'R^2_p'] = R2_df[R2_df.p == i].R2p.idxmax()\n",
    "            best_values.loc[i, 'Adj_R^2_p'] = adj_R2_df[adj_R2_df.p == i].max().adj_R2p\n",
    "            best_subsets.loc[i, 'Adj_R^2_p'] = adj_R2_df[adj_R2_df.p == i].adj_R2p.idxmax()\n",
    "            best_values.loc[i, 'Cp'] = C_df[C_df.p == i].min().Cp\n",
    "            best_subsets.loc[i, 'Cp'] = C_df[C_df.p == i].Abs_Cp.idxmin()\n",
    "            best_values.loc[i, 'AICp'] = AIC_df[AIC_df.p == i].min().AICp\n",
    "            best_subsets.loc[i, 'AICp'] = AIC_df[AIC_df.p == i].AICp.idxmin()\n",
    "            best_values.loc[i, 'SBCp'] = SBC_df[SBC_df.p == i].min().SBCp\n",
    "            best_subsets.loc[i, 'SBCp'] = SBC_df[SBC_df.p == i].SBCp.idxmin()\n",
    "            best_values.loc[i, 'PRESSp'] = PRESS_df[PRESS_df.p == i].min().PRESSp\n",
    "            best_subsets_df.loc[i, 'PRESSp'] = PRESS_df[PRESS_df.p == i].PRESSp.idxmin()"
   ]
  }
 ],
 "metadata": {
  "kernelspec": {
   "display_name": "Python 3",
   "language": "python",
   "name": "python3"
  },
  "language_info": {
   "codemirror_mode": {
    "name": "ipython",
    "version": 3
   },
   "file_extension": ".py",
   "mimetype": "text/x-python",
   "name": "python",
   "nbconvert_exporter": "python",
   "pygments_lexer": "ipython3",
   "version": "3.8.5"
  }
 },
 "nbformat": 4,
 "nbformat_minor": 4
}
