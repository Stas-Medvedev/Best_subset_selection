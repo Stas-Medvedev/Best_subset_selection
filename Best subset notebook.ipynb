{
 "cells": [
  {
   "cell_type": "code",
   "execution_count": 1,
   "metadata": {},
   "outputs": [],
   "source": [
    "import numpy as np"
   ]
  },
  {
   "cell_type": "markdown",
   "metadata": {},
   "source": [
    "The following function will calculate different statistical values."
   ]
  },
  {
   "cell_type": "code",
   "execution_count": 2,
   "metadata": {},
   "outputs": [],
   "source": [
    "def SSTO(y):\n",
    "    \n",
    "    '''Calculates sum of squares from the mean'''\n",
    "    \n",
    "    y_mean = np.mean(y)\n",
    "    squared_errors = (y - y_mean)**2\n",
    "    \n",
    "    return np.sum(squared_errors)"
   ]
  },
  {
   "cell_type": "code",
   "execution_count": 3,
   "metadata": {},
   "outputs": [],
   "source": [
    "def SSE(y, predictions):\n",
    "    \n",
    "    '''Calculates sum of squared errors between predictions and actual values'''\n",
    "    \n",
    "    squared_erros = (y - predictions)**2\n",
    "    \n",
    "    return np.sum(squared_errors)"
   ]
  },
  {
   "cell_type": "code",
   "execution_count": 4,
   "metadata": {},
   "outputs": [],
   "source": [
    "def adj_R2(_sse, _ssto, n, p):\n",
    "    \n",
    "    '''Calculates the adjusted R^2'''\n",
    "    \n",
    "    return 1 - (n-1)/(n-p) * _sse/_ssto"
   ]
  }
 ],
 "metadata": {
  "kernelspec": {
   "display_name": "Python 3",
   "language": "python",
   "name": "python3"
  },
  "language_info": {
   "codemirror_mode": {
    "name": "ipython",
    "version": 3
   },
   "file_extension": ".py",
   "mimetype": "text/x-python",
   "name": "python",
   "nbconvert_exporter": "python",
   "pygments_lexer": "ipython3",
   "version": "3.8.5"
  }
 },
 "nbformat": 4,
 "nbformat_minor": 4
}
