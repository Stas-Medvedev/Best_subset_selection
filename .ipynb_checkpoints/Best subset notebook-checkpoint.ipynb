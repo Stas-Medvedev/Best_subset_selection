{
 "cells": [
  {
   "cell_type": "code",
   "execution_count": null,
   "metadata": {},
   "outputs": [],
   "source": [
    "import numpy as np\n",
    "from sklearn.linear_model import LinearRegression"
   ]
  },
  {
   "cell_type": "markdown",
   "metadata": {},
   "source": [
    "Here are the formulas for various selection criteria for the best subset in a linear regression model."
   ]
  },
  {
   "cell_type": "markdown",
   "metadata": {},
   "source": [
    "Total sum of squares, `SSTO`:\n",
    "$$\n",
    "SSTO = \\sum (Y_i - \\bar{Y})^2\n",
    "$$"
   ]
  },
  {
   "cell_type": "markdown",
   "metadata": {},
   "source": [
    "Error sum of squares, `SSE`:\n",
    "$$\n",
    "SSE = \\sum (Y_i - \\hat{Y_i})^2\n",
    "$$"
   ]
  },
  {
   "cell_type": "markdown",
   "metadata": {},
   "source": [
    "Regression sum of squares, `SSR` (not used in calculations, but included for reference):  \n",
    "$$\n",
    "SSR = \\sum (\\hat{Y_i} - \\bar{Y})^2\n",
    "$$"
   ]
  },
  {
   "cell_type": "markdown",
   "metadata": {},
   "source": [
    "Relationship between `SSTO`, `SSE`, and `SSR`:\n",
    "$$\n",
    "SSTO = SSE + SSR\n",
    "$$"
   ]
  },
  {
   "cell_type": "markdown",
   "metadata": {},
   "source": [
    "-----"
   ]
  },
  {
   "cell_type": "markdown",
   "metadata": {},
   "source": [
    "#TODO: explain subscript p and invariance of `SSTO` with p."
   ]
  },
  {
   "cell_type": "markdown",
   "metadata": {},
   "source": [
    "#TODO: Add MSE"
   ]
  },
  {
   "cell_type": "markdown",
   "metadata": {},
   "source": [
    "-----"
   ]
  },
  {
   "cell_type": "markdown",
   "metadata": {},
   "source": [
    "Coefficient of multiple determination, `R2`:\n",
    "$$\n",
    "R^{2}_p = 1 - \\frac{SSE_p}{SSTO}\n",
    "$$"
   ]
  },
  {
   "cell_type": "markdown",
   "metadata": {},
   "source": [
    "Adjusted coefficient of multiple determination, `adj_R2`:  \n",
    "\n",
    "$$\n",
    "R^2_{a,p} = 1 - \\left(\\frac{n-1}{n-p}\\right)\\frac{SSE_p}{SSTO} = 1 - \\frac{MSE_p}{\\frac{SSTO}{n-1}}\n",
    "$$"
   ]
  },
  {
   "cell_type": "markdown",
   "metadata": {},
   "source": [
    "Mallows's `Cp`:\n",
    "$$\n",
    "C_p = \\frac{SSE_p}{MSE(X_{1},...,X_{p-1})} - (n-2p)\n",
    "$$"
   ]
  },
  {
   "cell_type": "code",
   "execution_count": null,
   "metadata": {},
   "outputs": [],
   "source": []
  },
  {
   "cell_type": "markdown",
   "metadata": {},
   "source": [
    "The following functions will calculate different statistical values."
   ]
  },
  {
   "cell_type": "code",
   "execution_count": null,
   "metadata": {},
   "outputs": [],
   "source": [
    "def SSTO(y):\n",
    "    \n",
    "    '''Calculates sum of squares from the mean.'''\n",
    "    \n",
    "    y_mean = np.mean(y)\n",
    "    squared_errors = (y - y_mean)**2\n",
    "    \n",
    "    return np.sum(squared_errors)"
   ]
  },
  {
   "cell_type": "code",
   "execution_count": null,
   "metadata": {},
   "outputs": [],
   "source": [
    "def SSE(y, predictions):\n",
    "    \n",
    "    '''Calculates sum of squared errors between predictions and actual values.'''\n",
    "    \n",
    "    squared_erros = (y - predictions)**2\n",
    "    \n",
    "    return np.sum(squared_errors)"
   ]
  },
  {
   "cell_type": "code",
   "execution_count": null,
   "metadata": {},
   "outputs": [],
   "source": [
    "def adj_R2(_sse, _ssto, n, p):\n",
    "    \n",
    "    '''Calculates the adjusted R^2.'''\n",
    "    \n",
    "    return 1 - (n-1)/(n-p) * _sse/_ssto"
   ]
  },
  {
   "cell_type": "code",
   "execution_count": null,
   "metadata": {},
   "outputs": [],
   "source": [
    "def Cp(sse_p, sse_P, n, p, P):\n",
    "    \n",
    "    '''Calculates Mallows's Cp value. Needs sse_p and sse_P to be pre-calculated.'''\n",
    "    \n",
    "    return sse_p / (sse_P/(n-P)) - (n - 2*p)"
   ]
  },
  {
   "cell_type": "code",
   "execution_count": null,
   "metadata": {},
   "outputs": [],
   "source": [
    "def AIC(_sse, n, p):\n",
    "    \n",
    "    '''Calculates the Akaike information criterion'''\n",
    "    \n",
    "    return n * np.log(_sse) - n * np.log(n) + 2*p"
   ]
  },
  {
   "cell_type": "code",
   "execution_count": null,
   "metadata": {},
   "outputs": [],
   "source": [
    "def SBC(_sse, n, p):\n",
    "    \n",
    "    '''Calculates Schwarz Bayesian criterion'''\n",
    "    \n",
    "    return n * np.log(_sse) - n * np.log(n) + np.log(n) * p"
   ]
  },
  {
   "cell_type": "code",
   "execution_count": null,
   "metadata": {},
   "outputs": [],
   "source": [
    "def PRESS(y, X):\n",
    "    \n",
    "    '''Calculates PRESS criterion.'''\n",
    "    \n",
    "    lr = LinearRegression()\n",
    "    pred = np.zeros(y.shape)\n",
    "    \n",
    "    for i in range(X.shape[0]):\n",
    "        y_mod = np.delete(y, i, 0)\n",
    "        X_mod = np.delete(X, i, 0)\n",
    "        lr.fit(X_mod, y_mod)\n",
    "        pred[i] = lr.predict(X[i].reshape(1, -1))\n",
    "        \n",
    "    return SSE(y, pred)"
   ]
  }
 ],
 "metadata": {
  "kernelspec": {
   "display_name": "Python 3",
   "language": "python",
   "name": "python3"
  },
  "language_info": {
   "codemirror_mode": {
    "name": "ipython",
    "version": 3
   },
   "file_extension": ".py",
   "mimetype": "text/x-python",
   "name": "python",
   "nbconvert_exporter": "python",
   "pygments_lexer": "ipython3",
   "version": "3.8.5"
  }
 },
 "nbformat": 4,
 "nbformat_minor": 4
}
